{
 "cells": [
  {
   "cell_type": "markdown",
   "id": "e77f30a4-cf83-4862-bfe8-d0d45b1b9109",
   "metadata": {},
   "source": [
    "### All prime numbers upto n"
   ]
  },
  {
   "cell_type": "code",
   "execution_count": 45,
   "id": "9eeeff50-7c59-420c-b038-cf0bd5ddd572",
   "metadata": {},
   "outputs": [
    {
     "name": "stdout",
     "output_type": "stream",
     "text": [
      "[False, True, True, True, False, False, False, False, False, False]\n"
     ]
    }
   ],
   "source": [
    "def prime_check(n):\n",
    "    # n=int(input())\n",
    "    initial=[True]*n\n",
    "    initial[0]=False\n",
    "    # initial[1]=False\n",
    "    for i in range(2,int(n**(1/2)+1)):\n",
    "        if initial[i]==True:\n",
    "            j = i * 2\n",
    "            while j < n:\n",
    "                initial[j]=False\n",
    "                j = j+1\n",
    "    # for j in initial:\n",
    "    #     if j == True:\n",
    "    #         print(initial.index(j))\n",
    "    print(initial)\n",
    "\n",
    "n=10\n",
    "prime_check(n)"
   ]
  },
  {
   "cell_type": "code",
   "execution_count": 25,
   "id": "4b0f991f-5fd1-49c1-85a7-4a3ee0e50c6f",
   "metadata": {},
   "outputs": [
    {
     "name": "stdin",
     "output_type": "stream",
     "text": [
      " 10\n"
     ]
    },
    {
     "name": "stdout",
     "output_type": "stream",
     "text": [
      "0\n",
      "0\n",
      "0\n",
      "0\n"
     ]
    }
   ],
   "source": [
    "n=int(input())\n",
    "prime_check(n)"
   ]
  },
  {
   "cell_type": "code",
   "execution_count": 17,
   "id": "78d455cf-7d69-471f-a6d3-8249139ff6a4",
   "metadata": {},
   "outputs": [
    {
     "name": "stdin",
     "output_type": "stream",
     "text": [
      " 100\n"
     ]
    },
    {
     "ename": "KeyboardInterrupt",
     "evalue": "",
     "output_type": "error",
     "traceback": [
      "\u001b[1;31m---------------------------------------------------------------------------\u001b[0m",
      "\u001b[1;31mKeyboardInterrupt\u001b[0m                         Traceback (most recent call last)",
      "Cell \u001b[1;32mIn[17], line 14\u001b[0m\n\u001b[0;32m     10\u001b[0m                 prime_list[j]\u001b[38;5;241m=\u001b[39m\u001b[38;5;28;01mFalse\u001b[39;00m\n\u001b[0;32m     11\u001b[0m     \u001b[38;5;28mprint\u001b[39m(prime_list)\n\u001b[1;32m---> 14\u001b[0m \u001b[43mprime_check\u001b[49m\u001b[43m(\u001b[49m\u001b[43mn\u001b[49m\u001b[43m)\u001b[49m\n",
      "Cell \u001b[1;32mIn[17], line 8\u001b[0m, in \u001b[0;36mprime_check\u001b[1;34m(n)\u001b[0m\n\u001b[0;32m      6\u001b[0m \u001b[38;5;28;01mif\u001b[39;00m prime_list[i]:\n\u001b[0;32m      7\u001b[0m     j\u001b[38;5;241m=\u001b[39m\u001b[38;5;241m1\u001b[39m\n\u001b[1;32m----> 8\u001b[0m     \u001b[38;5;28;01mwhile\u001b[39;00m j \u001b[38;5;241m<\u001b[39m\u001b[38;5;241m=\u001b[39m n :\n\u001b[0;32m      9\u001b[0m         j \u001b[38;5;241m=\u001b[39m i \u001b[38;5;241m*\u001b[39m \u001b[38;5;241m2\u001b[39m\n\u001b[0;32m     10\u001b[0m         prime_list[j]\u001b[38;5;241m=\u001b[39m\u001b[38;5;28;01mFalse\u001b[39;00m\n",
      "\u001b[1;31mKeyboardInterrupt\u001b[0m: "
     ]
    }
   ],
   "source": [
    "n= int(input())\n",
    "def prime_check(n):\n",
    "    prime_list=[True]*(n+1)\n",
    "    prime_list[0]=prime_list[1]=False\n",
    "    for i in range(2,int(n**(0.5))):\n",
    "        if prime_list[i]:\n",
    "            j=1\n",
    "            while j <= n :\n",
    "                j = i * 2\n",
    "                prime_list[j]=False\n",
    "    print(prime_list)\n",
    "                \n",
    "\n",
    "prime_check(n)"
   ]
  },
  {
   "cell_type": "code",
   "execution_count": 19,
   "id": "d871b4b9-2055-4b90-91cf-954a756fc348",
   "metadata": {},
   "outputs": [
    {
     "name": "stdout",
     "output_type": "stream",
     "text": [
      "YES\n"
     ]
    }
   ],
   "source": [
    "if \"12\" in \"123\":\n",
    "    print(\"YES\")"
   ]
  },
  {
   "cell_type": "code",
   "execution_count": 29,
   "id": "66ff17e3-9b15-4045-9faa-c4d235021624",
   "metadata": {},
   "outputs": [],
   "source": [
    "str=\"ABCA\""
   ]
  },
  {
   "cell_type": "code",
   "execution_count": 31,
   "id": "a10e1e08-dc45-485c-8cd2-9a2b219fabd3",
   "metadata": {},
   "outputs": [
    {
     "data": {
      "text/plain": [
       "0"
      ]
     },
     "execution_count": 31,
     "metadata": {},
     "output_type": "execute_result"
    }
   ],
   "source": [
    "str.find(\"A\")"
   ]
  },
  {
   "cell_type": "code",
   "execution_count": 39,
   "id": "9a074da1-4de6-489c-9475-fc647809474a",
   "metadata": {},
   "outputs": [],
   "source": [
    "str=\"1234\"\n",
    "str1=sorted(str)"
   ]
  },
  {
   "cell_type": "code",
   "execution_count": 41,
   "id": "0a47f263-f9ed-4251-a4db-fab6729ae343",
   "metadata": {},
   "outputs": [
    {
     "name": "stdout",
     "output_type": "stream",
     "text": [
      "['1', '2', '3', '4']\n"
     ]
    }
   ],
   "source": [
    "print(str1)"
   ]
  },
  {
   "cell_type": "code",
   "execution_count": 43,
   "id": "10e1b6cd-bbd2-482d-bb5d-64a5ab072424",
   "metadata": {},
   "outputs": [
    {
     "data": {
      "text/plain": [
       "True"
      ]
     },
     "execution_count": 43,
     "metadata": {},
     "output_type": "execute_result"
    }
   ],
   "source": [
    "\"2\" in str1"
   ]
  },
  {
   "cell_type": "code",
   "execution_count": null,
   "id": "52509d4e-eebe-48ee-85a0-f431b688818e",
   "metadata": {},
   "outputs": [],
   "source": []
  }
 ],
 "metadata": {
  "kernelspec": {
   "display_name": "Python 3 (ipykernel)",
   "language": "python",
   "name": "python3"
  },
  "language_info": {
   "codemirror_mode": {
    "name": "ipython",
    "version": 3
   },
   "file_extension": ".py",
   "mimetype": "text/x-python",
   "name": "python",
   "nbconvert_exporter": "python",
   "pygments_lexer": "ipython3",
   "version": "3.12.3"
  }
 },
 "nbformat": 4,
 "nbformat_minor": 5
}
