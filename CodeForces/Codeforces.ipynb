{
 "cells": [
  {
   "cell_type": "raw",
   "id": "c5b2b9ee-2e24-4ad5-bb96-51312217c2f5",
   "metadata": {},
   "source": [
    "A. Elephant\n",
    "time limit per test1 second\n",
    "memory limit per test256 megabytes\n",
    "An elephant decided to visit his friend. It turned out that the elephant's house is located at point 0 and his friend's house is located at point x(x > 0) of the coordinate line. In one step the elephant can move 1, 2, 3, 4 or 5 positions forward. Determine, what is the minimum number of steps he need to make in order to get to his friend's house.\n",
    "\n",
    "Input\n",
    "The first line of the input contains an integer x (1 ≤ x ≤ 1 000 000) — The coordinate of the friend's house.\n",
    "\n",
    "Output\n",
    "Print the minimum number of steps that elephant needs to make to get from point 0 to point x."
   ]
  },
  {
   "cell_type": "code",
   "execution_count": 5,
   "id": "4b79b4c4-38b1-4b9a-83d6-f2bd88612222",
   "metadata": {},
   "outputs": [
    {
     "name": "stdin",
     "output_type": "stream",
     "text": [
      " 25\n"
     ]
    },
    {
     "name": "stdout",
     "output_type": "stream",
     "text": [
      "5\n"
     ]
    }
   ],
   "source": [
    "x= int(input())\n",
    "if x % 5 == 0 :\n",
    "    steps= int(x // 5)\n",
    "    print(steps)\n",
    "else :\n",
    "    steps = int(x//5) + 1\n",
    "    print(steps)"
   ]
  },
  {
   "cell_type": "raw",
   "id": "cc7650e8-76a1-46d2-8a82-e4af50104dbb",
   "metadata": {},
   "source": [
    "https://codeforces.com/problemset/problem/1335/A\n",
    "\n",
    "In Sherwood, the trees are our shelter, and we are all children of the forest.\n",
    "The Major Oak in Sherwood is known for its majestic foliage, which provided shelter to Robin Hood and his band of merry men and women.\n",
    "\n",
    "The Major Oak grows ii new leaves in the i-th year. It starts with 1 leaf in year 1\n",
    ".\n",
    "\n",
    "Leaves last for k years on the tree. In other words, leaves grown in year i last between years i and i+k−1 inclusive.\n",
    "\n",
    "Robin considers even numbers lucky. Help Robin determine whether the Major Oak will have an even number of leaves in year n\n",
    ".\n",
    "\n",
    "Input\n",
    "The first line of the input contains a single integer t (1≤t≤104) — the number of test cases.\n",
    "\n",
    "Each test case consists of two integers n, k (1≤n≤109, 1≤k≤n) — the requested year and the number of years during which the leaves remain.\n",
    "\n",
    "Output\n",
    "For each test case, output one line, \"YES\" if in year n\n",
    " the Major Oak will have an even number of leaves and \"NO\" otherwise.\n",
    "\n",
    "You can output the answer in any case (upper or lower). For example, the strings \"yEs\", \"yes\", \"Yes\", and \"YES\" will be recognized as positive responses.\n"
   ]
  },
  {
   "cell_type": "code",
   "execution_count": 12,
   "id": "9c526b5c-fc60-4cd6-8260-db09f9972b29",
   "metadata": {},
   "outputs": [
    {
     "name": "stdin",
     "output_type": "stream",
     "text": [
      " 5\n",
      " 4 5\n"
     ]
    }
   ],
   "source": [
    "t=int(input())\n",
    "n,k=input().split()\n",
    "\n",
    "n=int(n)\n",
    "k=int(k)\n"
   ]
  },
  {
   "cell_type": "code",
   "execution_count": 10,
   "id": "4628474e-fbca-41a9-aa22-936512abb613",
   "metadata": {},
   "outputs": [
    {
     "name": "stdout",
     "output_type": "stream",
     "text": [
      "4 <class 'str'>\n"
     ]
    }
   ],
   "source": [
    "print(n,type(n))"
   ]
  },
  {
   "cell_type": "code",
   "execution_count": 42,
   "id": "8fea7dab-6295-4e18-a4c5-1b11d6411cb7",
   "metadata": {},
   "outputs": [
    {
     "name": "stdin",
     "output_type": "stream",
     "text": [
      " 7 7\n"
     ]
    },
    {
     "name": "stdout",
     "output_type": "stream",
     "text": [
      "6\n"
     ]
    }
   ],
   "source": [
    "# https://codeforces.com/contest/318/problem/A\n",
    "\n",
    "n,k=input().split()\n",
    "n,k=int(n),int(k)\n",
    "if (n%2==0) and (k<= n/2):\n",
    "    print()"
   ]
  },
  {
   "cell_type": "code",
   "execution_count": null,
   "id": "1902bb16-c9ac-4153-908d-325e0c893008",
   "metadata": {},
   "outputs": [],
   "source": [
    "# https://codeforces.com/contest/318/problem/A\n",
    "\n",
    "n,k=input().split()\n",
    "n,k=int(n),int(k)\n",
    "odd,even=[],[]\n",
    "for i in range(1,n+1):\n",
    "    j=0\n",
    "    k=0\n",
    "    if i%2 != 0:\n",
    "        odd\n",
    "    else:\n",
    "        even.append(i)\n",
    "\n",
    "full=odd+even\n",
    "print(full[k-1])"
   ]
  },
  {
   "cell_type": "code",
   "execution_count": null,
   "id": "565ba490-3aa3-4456-a862-f46e773ccdb1",
   "metadata": {},
   "outputs": [],
   "source": [
    "n,k=input().split()\n",
    "n,k=int(n),int(k)\n",
    "odd,even=[],[]\n"
   ]
  },
  {
   "cell_type": "code",
   "execution_count": 18,
   "id": "0eaa5505-ede1-47c5-b6c0-70ee2955590e",
   "metadata": {},
   "outputs": [
    {
     "name": "stdout",
     "output_type": "stream",
     "text": [
      "[0, 0, 1, 1, 2, 2, 3, 3, 4, 4, 5, 5, 6, 6, 7, 7, 8, 8, 9, 9, 10, 10, 11, 11, 12, 12, 13, 13, 14, 14, 15, 15, 16, 16, 17, 17, 18, 18, 19, 19, 20, 20, 21, 21, 22, 22, 23, 23, 24, 24]\n"
     ]
    }
   ],
   "source": [
    "lis=[i//2 for i in range(50)]\n",
    "print(lis)"
   ]
  },
  {
   "cell_type": "code",
   "execution_count": 30,
   "id": "5c88eea3-f546-4c83-8b01-55a758a01231",
   "metadata": {},
   "outputs": [
    {
     "name": "stdout",
     "output_type": "stream",
     "text": [
      "2\n"
     ]
    }
   ],
   "source": [
    "n,k=51,27\n",
    "num1=[]\n",
    "num2=[]\n",
    "#num=[]\n",
    "for i in range(1,n+1):\n",
    "    if i% 2 != 0 :\n",
    "        num1.append(i)\n",
    "    else:\n",
    "        num2.append(i)\n",
    "\n",
    "num=num1+num2\n",
    "\n",
    "print(num[k-1])\n",
    "print()"
   ]
  },
  {
   "cell_type": "code",
   "execution_count": null,
   "id": "41ba269b-dd4e-4290-9e83-28d815c32703",
   "metadata": {},
   "outputs": [],
   "source": []
  }
 ],
 "metadata": {
  "kernelspec": {
   "display_name": "Python 3 (ipykernel)",
   "language": "python",
   "name": "python3"
  },
  "language_info": {
   "codemirror_mode": {
    "name": "ipython",
    "version": 3
   },
   "file_extension": ".py",
   "mimetype": "text/x-python",
   "name": "python",
   "nbconvert_exporter": "python",
   "pygments_lexer": "ipython3",
   "version": "3.12.3"
  }
 },
 "nbformat": 4,
 "nbformat_minor": 5
}
