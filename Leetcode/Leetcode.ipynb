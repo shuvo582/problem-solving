{
 "cells": [
  {
   "cell_type": "markdown",
   "id": "3d299062-b417-40d9-9548-cc6c8ee23a15",
   "metadata": {},
   "source": [
    "# 29/10/2024"
   ]
  },
  {
   "cell_type": "markdown",
   "id": "76ebc6c5-b268-4a45-9ebc-f58c55d97c2b",
   "metadata": {},
   "source": [
    "### Two Sum"
   ]
  },
  {
   "cell_type": "code",
   "execution_count": 11,
   "id": "6a4997cc-5ffb-4d3b-81d0-9c79cbb5ef1b",
   "metadata": {},
   "outputs": [
    {
     "name": "stdin",
     "output_type": "stream",
     "text": [
      " [2,3,4,5]\n",
      " 4\n"
     ]
    },
    {
     "name": "stdout",
     "output_type": "stream",
     "text": [
      "<class 'str'>\n"
     ]
    }
   ],
   "source": [
    "nums=input()\n",
    "target=int(input())\n",
    "j=0\n",
    "for i in nums:\n",
    "    if i !=j and nums[j]+nums[i]==target:\n",
    "        print(list(nums.index(i),nums.index(j)))\n",
    "    j=j+1 \n",
    "    if j==len(nums):\n",
    "        j=0\n",
    "\n",
    "print(type(nums))"
   ]
  },
  {
   "cell_type": "code",
   "execution_count": 21,
   "id": "1bf41cb9-2732-4b54-ba6c-489da489fd7f",
   "metadata": {},
   "outputs": [
    {
     "name": "stdin",
     "output_type": "stream",
     "text": [
      " 2,3,4,5,6\n"
     ]
    },
    {
     "ename": "ValueError",
     "evalue": "invalid literal for int() with base 10: ','",
     "output_type": "error",
     "traceback": [
      "\u001b[1;31m---------------------------------------------------------------------------\u001b[0m",
      "\u001b[1;31mValueError\u001b[0m                                Traceback (most recent call last)",
      "Cell \u001b[1;32mIn[21], line 4\u001b[0m\n\u001b[0;32m      2\u001b[0m nums1\u001b[38;5;241m=\u001b[39m[]\n\u001b[0;32m      3\u001b[0m \u001b[38;5;28;01mfor\u001b[39;00m i \u001b[38;5;129;01min\u001b[39;00m nums:\n\u001b[1;32m----> 4\u001b[0m     nums1\u001b[38;5;241m.\u001b[39mappend(\u001b[38;5;28;43mint\u001b[39;49m\u001b[43m(\u001b[49m\u001b[43mi\u001b[49m\u001b[43m)\u001b[49m)\n\u001b[0;32m      6\u001b[0m nums1\u001b[38;5;241m=\u001b[39mnums\n\u001b[0;32m      7\u001b[0m \u001b[38;5;28mprint\u001b[39m(nums)\n",
      "\u001b[1;31mValueError\u001b[0m: invalid literal for int() with base 10: ','"
     ]
    }
   ],
   "source": [
    "nums=input()\n",
    "nums1=[]\n",
    "for i in nums:\n",
    "    nums1.append(int(i))\n",
    "\n",
    "nums1=nums\n",
    "print(nums)"
   ]
  },
  {
   "cell_type": "markdown",
   "id": "172d324b-f890-43b1-a834-4ba68f3c54cc",
   "metadata": {},
   "source": [
    "# 01/11/2024"
   ]
  },
  {
   "cell_type": "markdown",
   "id": "b63c9d8a-ecd4-4a9b-8c3f-70e84f50c7b4",
   "metadata": {},
   "source": [
    "### 2469. Convert the Temperature"
   ]
  },
  {
   "cell_type": "code",
   "execution_count": 7,
   "id": "7ee1cc08-7149-45dd-9066-f074d2450d5b",
   "metadata": {},
   "outputs": [
    {
     "name": "stdout",
     "output_type": "stream",
     "text": [
      "2.00\n"
     ]
    }
   ],
   "source": [
    "n= 2 \n",
    "print(format(n,\".2f\"))"
   ]
  },
  {
   "cell_type": "code",
   "execution_count": 17,
   "id": "816389dd-1d02-4975-a01f-9737a2e2afaf",
   "metadata": {},
   "outputs": [
    {
     "name": "stdout",
     "output_type": "stream",
     "text": [
      "[True, False, True, True, True, True, True, True, True, True]\n"
     ]
    }
   ],
   "source": [
    "n=[i**2 for i in range(1,10+1)]\n",
    "print(n)"
   ]
  },
  {
   "cell_type": "code",
   "execution_count": 21,
   "id": "188e75a3-d2b3-4e9f-8ee9-b6eaeb53ad14",
   "metadata": {},
   "outputs": [
    {
     "data": {
      "text/plain": [
       "<__main__.Solution at 0x1f475658380>"
      ]
     },
     "execution_count": 21,
     "metadata": {},
     "output_type": "execute_result"
    }
   ],
   "source": [
    "class Solution:\n",
    "    def differenceOfSums(self, n: int, m: int) -> int:\n",
    "        n=int(input())\n",
    "        m=int(input())\n",
    "        num1=0\n",
    "        num2=0\n",
    "        for i in range(1,n+1):\n",
    "            if i % m != 0:\n",
    "                num1 = num1 +1\n",
    "            else:\n",
    "                num2 = num2 + 1\n",
    "        return num1 - num2\n",
    "\n",
    "Solution()\n",
    "\n",
    "        "
   ]
  },
  {
   "cell_type": "code",
   "execution_count": 33,
   "id": "a35bd1aa-f0ca-43b6-841b-9f8eecc8ac87",
   "metadata": {},
   "outputs": [
    {
     "name": "stdout",
     "output_type": "stream",
     "text": [
      "1\n",
      "2\n",
      "4\n",
      "5\n",
      "7\n",
      "8\n",
      "10\n",
      "7\n"
     ]
    }
   ],
   "source": [
    "n=  10                                  #int(input())\n",
    "m=3 #int(input())\n",
    "num1=0\n",
    "num2=0\n",
    "for i in range(1,n+1):\n",
    "    if i % m != 0:\n",
    "        num1 = num1 +i\n",
    "        print(i)\n",
    "    else:\n",
    "        num2 = num2 + 1\n",
    "        # print(num2)\n",
    "# print( num1 - num2)\n",
    "print(num1)\n",
    "\n"
   ]
  },
  {
   "cell_type": "markdown",
   "id": "28756e75-75a0-4394-a2e0-8ed619652858",
   "metadata": {},
   "source": [
    "len([1,2,3,1,1,3])"
   ]
  },
  {
   "cell_type": "code",
   "execution_count": 36,
   "id": "873a7ac8-c62f-4c6e-bc6f-662e19144780",
   "metadata": {},
   "outputs": [
    {
     "name": "stdout",
     "output_type": "stream",
     "text": [
      "3\n"
     ]
    }
   ],
   "source": [
    "print(len([2,3,4]))"
   ]
  },
  {
   "cell_type": "raw",
   "id": "bef4ab55-c6af-4ba2-9415-55472057cca2",
   "metadata": {},
   "source": [
    "<!-- 3289. The Two Sneaky Numbers of Digitville -->"
   ]
  },
  {
   "cell_type": "code",
   "execution_count": 57,
   "id": "93fdce84-a87f-4cc2-a946-032ad645f144",
   "metadata": {},
   "outputs": [
    {
     "name": "stdout",
     "output_type": "stream",
     "text": [
      "Counter({4: 3, 2: 2, 3: 2, 6: 2, 5: 1, 7: 1, 12: 1, 9: 1})\n",
      "2\n",
      "2\n",
      "3\n",
      "2\n"
     ]
    }
   ],
   "source": [
    "\n",
    "from collections import Counter\n",
    "nums=[2,3,4,5,6,4,2,7,12,3,4,6,9]\n",
    "co=Counter(nums)\n",
    "print(co)\n",
    "for i in co.values():\n",
    "    if i>= 2:\n",
    "        # print(co[i])\n",
    "        print(i)\n",
    "\n",
    "print()"
   ]
  },
  {
   "cell_type": "code",
   "execution_count": 61,
   "id": "e0fcfa37-4d3b-4afc-9789-040d37d4be0a",
   "metadata": {},
   "outputs": [
    {
     "name": "stdout",
     "output_type": "stream",
     "text": [
      "3\n"
     ]
    }
   ],
   "source": [
    "print(co[4])"
   ]
  },
  {
   "cell_type": "code",
   "execution_count": 35,
   "id": "ec11b38f-62a4-4a68-8ffe-69a39b6eed3d",
   "metadata": {},
   "outputs": [
    {
     "name": "stdout",
     "output_type": "stream",
     "text": [
      "[0, 1]\n"
     ]
    }
   ],
   "source": [
    "nums= [2,7,11,15]\n",
    "target=9\n",
    "for i in range(len(nums)):\n",
    "    for j in range(len(nums)):\n",
    "        if i > j and nums[i] + nums[j] == target:\n",
    "            print([nums.index(nums[j]),nums.index(nums[i])])"
   ]
  },
  {
   "cell_type": "code",
   "execution_count": 29,
   "id": "a1cbdd0b-086f-43c1-854e-02bea50d7fce",
   "metadata": {},
   "outputs": [
    {
     "data": {
      "text/plain": [
       "3"
      ]
     },
     "execution_count": 29,
     "metadata": {},
     "output_type": "execute_result"
    }
   ],
   "source": [
    "nums.index(nums[i])"
   ]
  },
  {
   "cell_type": "code",
   "execution_count": null,
   "id": "b7494ff6-44b2-4385-8f2a-c705f43b2649",
   "metadata": {},
   "outputs": [],
   "source": []
  }
 ],
 "metadata": {
  "kernelspec": {
   "display_name": "Python 3 (ipykernel)",
   "language": "python",
   "name": "python3"
  },
  "language_info": {
   "codemirror_mode": {
    "name": "ipython",
    "version": 3
   },
   "file_extension": ".py",
   "mimetype": "text/x-python",
   "name": "python",
   "nbconvert_exporter": "python",
   "pygments_lexer": "ipython3",
   "version": "3.12.3"
  }
 },
 "nbformat": 4,
 "nbformat_minor": 5
}
